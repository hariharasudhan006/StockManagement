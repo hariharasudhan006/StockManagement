{
    "metadata": {
        "kernelspec": {
            "name": "SQL",
            "display_name": "SQL",
            "language": "sql"
        },
        "language_info": {
            "name": "sql",
            "version": ""
        },
        "extensions": {
            "azuredatastudio": {
                "version": 1,
                "views": []
            }
        }
    },
    "nbformat_minor": 2,
    "nbformat": 4,
    "cells": [
        {
            "cell_type": "code",
            "source": [
                "create database StockManagement;"
            ],
            "metadata": {
                "azdata_cell_guid": "3787d781-4d98-460e-b84f-8df5f82c2024"
            },
            "outputs": [
                {
                    "output_type": "display_data",
                    "data": {
                        "text/html": "Commands completed successfully."
                    },
                    "metadata": {}
                },
                {
                    "output_type": "display_data",
                    "data": {
                        "text/html": "Total execution time: 00:00:00.211"
                    },
                    "metadata": {}
                }
            ],
            "execution_count": 12
        },
        {
            "cell_type": "code",
            "source": [
                "use StockManagement;\r\n",
                "create table Users (id integer identity(1, 1) primary key, name varchar(50), password varchar(255));"
            ],
            "metadata": {
                "azdata_cell_guid": "e2943a65-8d0b-4ae8-aec3-c7de650e9871"
            },
            "outputs": [
                {
                    "output_type": "display_data",
                    "data": {
                        "text/html": "Commands completed successfully."
                    },
                    "metadata": {}
                },
                {
                    "output_type": "display_data",
                    "data": {
                        "text/html": "Total execution time: 00:00:00.010"
                    },
                    "metadata": {}
                }
            ],
            "execution_count": 13
        },
        {
            "cell_type": "code",
            "source": [
                "use StockManagement;\r\n",
                "create table Stock(id integer primary key, price decimal(7,2), boughtData date, userId integer foreign key references Users(id), manufactorerId integer foreign key references Manufactorer(id));"
            ],
            "metadata": {
                "azdata_cell_guid": "bd0841d2-dce6-43ac-a1cb-176b036a5933"
            },
            "outputs": [
                {
                    "output_type": "display_data",
                    "data": {
                        "text/html": "Commands completed successfully."
                    },
                    "metadata": {}
                },
                {
                    "output_type": "display_data",
                    "data": {
                        "text/html": "Total execution time: 00:00:00.108"
                    },
                    "metadata": {}
                }
            ],
            "execution_count": 14
        },
        {
            "cell_type": "code",
            "source": [
                "use StockManagement;\r\n",
                "create table Product(id integer primary key, name varchar(50), pricePerUnit decimal(6, 2), stockId integer foreign key references Stock(id));"
            ],
            "metadata": {
                "azdata_cell_guid": "3a881ed0-9af6-4d77-a0c7-020768f3d18a"
            },
            "outputs": [
                {
                    "output_type": "display_data",
                    "data": {
                        "text/html": "Commands completed successfully."
                    },
                    "metadata": {}
                },
                {
                    "output_type": "display_data",
                    "data": {
                        "text/html": "Total execution time: 00:00:00.201"
                    },
                    "metadata": {}
                }
            ],
            "execution_count": 15
        },
        {
            "cell_type": "code",
            "source": [
                "use StockManagement;\r\n",
                "create table Manufacturer (id integer primary key, name varchar(50), address varchar(100));"
            ],
            "metadata": {
                "azdata_cell_guid": "dd9f0194-6a5b-4f60-a330-a745340706fa"
            },
            "outputs": [
                {
                    "output_type": "display_data",
                    "data": {
                        "text/html": "Commands completed successfully."
                    },
                    "metadata": {}
                },
                {
                    "output_type": "display_data",
                    "data": {
                        "text/html": "Total execution time: 00:00:00.010"
                    },
                    "metadata": {}
                }
            ],
            "execution_count": 18
        },
        {
            "cell_type": "code",
            "source": [
                "use StockManagement;\r\n",
                "create table Sold (id integer primary key, soldTo varchar(50), soldDate date, soldPrice decimal(6, 2));"
            ],
            "metadata": {
                "azdata_cell_guid": "44012e6a-8e00-4234-a751-5a24b6d38c23"
            },
            "outputs": [
                {
                    "output_type": "display_data",
                    "data": {
                        "text/html": "Commands completed successfully."
                    },
                    "metadata": {}
                },
                {
                    "output_type": "display_data",
                    "data": {
                        "text/html": "Total execution time: 00:00:00.009"
                    },
                    "metadata": {}
                }
            ],
            "execution_count": 22
        },
        {
            "cell_type": "code",
            "source": [
                "use StockManagement;\r\n",
                "create table Transfer(id integer primary key, transferTo varchar(100), transferData date);"
            ],
            "metadata": {
                "azdata_cell_guid": "fb35e359-9d14-44ad-88aa-7559e0490f85"
            },
            "outputs": [
                {
                    "output_type": "error",
                    "ename": "",
                    "evalue": "Msg 2714, Level 16, State 6, Line 2\r\nThere is already an object named 'Transfer' in the database.",
                    "traceback": []
                },
                {
                    "output_type": "display_data",
                    "data": {
                        "text/html": "Total execution time: 00:00:00.012"
                    },
                    "metadata": {}
                }
            ],
            "execution_count": 23
        },
        {
            "cell_type": "code",
            "source": [
                "use StockManagement;\r\n",
                "create table CurrentStatus(productId integer foreign key references Product(id), isDamaged varchar(2), soldId integer null foreign key references Sold(id), transferId integer null foreign key references Transfer(id));"
            ],
            "metadata": {
                "azdata_cell_guid": "56d941e2-3724-401a-b9f2-1810a05b0579"
            },
            "outputs": [
                {
                    "output_type": "display_data",
                    "data": {
                        "text/html": "Commands completed successfully."
                    },
                    "metadata": {}
                },
                {
                    "output_type": "display_data",
                    "data": {
                        "text/html": "Total execution time: 00:00:00.010"
                    },
                    "metadata": {}
                }
            ],
            "execution_count": 25
        },
        {
            "cell_type": "code",
            "source": [
                "use StockManagement;\r\n",
                "create table Specification(productId integer foreign key references Product(id), last_modification date);"
            ],
            "metadata": {
                "azdata_cell_guid": "558734c6-8210-425e-b2aa-ddbf86df52b7"
            },
            "outputs": [],
            "execution_count": null
        },
        {
            "cell_type": "code",
            "source": [
                "use StockManagement;\r\n",
                "insert into Manufacturer values(1, 'XYZ', 'Chennai');"
            ],
            "metadata": {
                "azdata_cell_guid": "6a2310e1-a51e-4ada-b4ca-498ce9b7dbd0"
            },
            "outputs": [
                {
                    "output_type": "display_data",
                    "data": {
                        "text/html": "(1 row affected)"
                    },
                    "metadata": {}
                },
                {
                    "output_type": "display_data",
                    "data": {
                        "text/html": "Total execution time: 00:00:00.010"
                    },
                    "metadata": {}
                }
            ],
            "execution_count": 3
        },
        {
            "cell_type": "code",
            "source": [
                "use StockManagement;\r\n",
                "insert into Users values('Hari', 'hari');"
            ],
            "metadata": {
                "azdata_cell_guid": "10c0b776-6b6c-4c14-823b-31e7894162fa"
            },
            "outputs": [
                {
                    "output_type": "display_data",
                    "data": {
                        "text/html": "(1 row affected)"
                    },
                    "metadata": {}
                },
                {
                    "output_type": "display_data",
                    "data": {
                        "text/html": "Total execution time: 00:00:00.010"
                    },
                    "metadata": {}
                }
            ],
            "execution_count": 6
        },
        {
            "cell_type": "code",
            "source": [
                "use StockManagement;\r\n",
                "insert into Stock values(1, 10000, '01-01-2022', 4, 1);"
            ],
            "metadata": {
                "azdata_cell_guid": "3dfbdb08-a182-40da-a0f0-5af97e1b3c4b"
            },
            "outputs": [
                {
                    "output_type": "display_data",
                    "data": {
                        "text/html": "(1 row affected)"
                    },
                    "metadata": {}
                },
                {
                    "output_type": "display_data",
                    "data": {
                        "text/html": "Total execution time: 00:00:00.012"
                    },
                    "metadata": {}
                }
            ],
            "execution_count": 7
        },
        {
            "cell_type": "code",
            "source": [
                "use StockManagement;\r\n",
                "insert into Product values(1, 'Computer',10000, 1);"
            ],
            "metadata": {
                "azdata_cell_guid": "c54ada22-235f-4ac9-8815-b0647190eb70"
            },
            "outputs": [],
            "execution_count": null
        }
    ]
}